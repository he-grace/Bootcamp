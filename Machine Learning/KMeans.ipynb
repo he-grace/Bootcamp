{
 "cells": [
  {
   "cell_type": "code",
   "execution_count": 1,
   "metadata": {},
   "outputs": [],
   "source": [
    "import pandas as pd\n",
    "import numpy as np\n",
    "from sklearn.cluster import KMeans\n",
    "from sklearn.preprocessing import LabelEncoder\n",
    "from sklearn.preprocessing import MinMaxScaler\n",
    "import seaborn as sns\n",
    "import matplotlib.pyplot as plt\n",
    "%matplotlib inline\n",
    "from sklearn import preprocessing"
   ]
  },
  {
   "cell_type": "code",
   "execution_count": 2,
   "metadata": {
    "scrolled": true
   },
   "outputs": [],
   "source": [
    "cnbv_raw = pd.read_csv ('C:/Users/grace/Documents/Machine Learning/CNBV_perdida_esperada_2.csv', dtype={'Cartera_Total': np.float64})"
   ]
  },
  {
   "cell_type": "code",
   "execution_count": 3,
   "metadata": {},
   "outputs": [],
   "source": [
    "cnbv_raw2 = cnbv_raw[cnbv_raw[\"Cartera_Total\"] != 0]"
   ]
  },
  {
   "cell_type": "code",
   "execution_count": 4,
   "metadata": {
    "scrolled": true
   },
   "outputs": [
    {
     "data": {
      "text/html": [
       "<div>\n",
       "<style scoped>\n",
       "    .dataframe tbody tr th:only-of-type {\n",
       "        vertical-align: middle;\n",
       "    }\n",
       "\n",
       "    .dataframe tbody tr th {\n",
       "        vertical-align: top;\n",
       "    }\n",
       "\n",
       "    .dataframe thead th {\n",
       "        text-align: right;\n",
       "    }\n",
       "</style>\n",
       "<table border=\"1\" class=\"dataframe\">\n",
       "  <thead>\n",
       "    <tr style=\"text-align: right;\">\n",
       "      <th></th>\n",
       "      <th>Cartera_Total</th>\n",
       "      <th>Cartera_Vigente</th>\n",
       "      <th>Cartera_Vencida</th>\n",
       "      <th>IMOR</th>\n",
       "      <th>Creditos</th>\n",
       "      <th>Acreditados</th>\n",
       "    </tr>\n",
       "  </thead>\n",
       "  <tbody>\n",
       "    <tr>\n",
       "      <th>count</th>\n",
       "      <td>423068.000000</td>\n",
       "      <td>423068.000000</td>\n",
       "      <td>423068.000000</td>\n",
       "      <td>423068.000000</td>\n",
       "      <td>423068.000000</td>\n",
       "      <td>423068.000000</td>\n",
       "    </tr>\n",
       "    <tr>\n",
       "      <th>mean</th>\n",
       "      <td>193.639915</td>\n",
       "      <td>190.102645</td>\n",
       "      <td>3.537246</td>\n",
       "      <td>6.863947</td>\n",
       "      <td>71.328517</td>\n",
       "      <td>51.797380</td>\n",
       "    </tr>\n",
       "    <tr>\n",
       "      <th>std</th>\n",
       "      <td>1102.943702</td>\n",
       "      <td>1092.152817</td>\n",
       "      <td>31.826948</td>\n",
       "      <td>21.287071</td>\n",
       "      <td>596.191726</td>\n",
       "      <td>325.916451</td>\n",
       "    </tr>\n",
       "    <tr>\n",
       "      <th>min</th>\n",
       "      <td>0.010000</td>\n",
       "      <td>-0.080000</td>\n",
       "      <td>0.000000</td>\n",
       "      <td>0.000000</td>\n",
       "      <td>1.000000</td>\n",
       "      <td>1.000000</td>\n",
       "    </tr>\n",
       "    <tr>\n",
       "      <th>25%</th>\n",
       "      <td>1.470000</td>\n",
       "      <td>1.110000</td>\n",
       "      <td>0.000000</td>\n",
       "      <td>0.000000</td>\n",
       "      <td>2.000000</td>\n",
       "      <td>2.000000</td>\n",
       "    </tr>\n",
       "    <tr>\n",
       "      <th>50%</th>\n",
       "      <td>10.070000</td>\n",
       "      <td>9.250000</td>\n",
       "      <td>0.000000</td>\n",
       "      <td>0.000000</td>\n",
       "      <td>4.000000</td>\n",
       "      <td>4.000000</td>\n",
       "    </tr>\n",
       "    <tr>\n",
       "      <th>75%</th>\n",
       "      <td>63.780000</td>\n",
       "      <td>60.780000</td>\n",
       "      <td>0.180000</td>\n",
       "      <td>0.710000</td>\n",
       "      <td>18.000000</td>\n",
       "      <td>17.000000</td>\n",
       "    </tr>\n",
       "    <tr>\n",
       "      <th>max</th>\n",
       "      <td>66764.950000</td>\n",
       "      <td>66198.330000</td>\n",
       "      <td>2404.220000</td>\n",
       "      <td>100.000000</td>\n",
       "      <td>45995.000000</td>\n",
       "      <td>17701.000000</td>\n",
       "    </tr>\n",
       "  </tbody>\n",
       "</table>\n",
       "</div>"
      ],
      "text/plain": [
       "       Cartera_Total  Cartera_Vigente  Cartera_Vencida           IMOR  \\\n",
       "count  423068.000000    423068.000000    423068.000000  423068.000000   \n",
       "mean      193.639915       190.102645         3.537246       6.863947   \n",
       "std      1102.943702      1092.152817        31.826948      21.287071   \n",
       "min         0.010000        -0.080000         0.000000       0.000000   \n",
       "25%         1.470000         1.110000         0.000000       0.000000   \n",
       "50%        10.070000         9.250000         0.000000       0.000000   \n",
       "75%        63.780000        60.780000         0.180000       0.710000   \n",
       "max     66764.950000     66198.330000      2404.220000     100.000000   \n",
       "\n",
       "            Creditos    Acreditados  \n",
       "count  423068.000000  423068.000000  \n",
       "mean       71.328517      51.797380  \n",
       "std       596.191726     325.916451  \n",
       "min         1.000000       1.000000  \n",
       "25%         2.000000       2.000000  \n",
       "50%         4.000000       4.000000  \n",
       "75%        18.000000      17.000000  \n",
       "max     45995.000000   17701.000000  "
      ]
     },
     "execution_count": 4,
     "metadata": {},
     "output_type": "execute_result"
    }
   ],
   "source": [
    "cnbv_raw2.describe()"
   ]
  },
  {
   "cell_type": "code",
   "execution_count": 5,
   "metadata": {
    "scrolled": true
   },
   "outputs": [
    {
     "data": {
      "text/plain": [
       "423068"
      ]
     },
     "execution_count": 5,
     "metadata": {},
     "output_type": "execute_result"
    }
   ],
   "source": [
    "cnbv_raw2[\"IMOR\"].count()"
   ]
  },
  {
   "cell_type": "code",
   "execution_count": 6,
   "metadata": {},
   "outputs": [
    {
     "data": {
      "text/plain": [
       "Escala                          14556\n",
       "Estado_calculado                14556\n",
       "Actividad_economica_agragada    14556\n",
       "Destino_del_credito             14556\n",
       "Institucion                     14556\n",
       "Periodo_seguimiento             14556\n",
       "Cartera                         14556\n",
       "Cartera_Total                   14556\n",
       "Cartera_Vigente                 14556\n",
       "Cartera_Vencida                 14556\n",
       "IMOR                            14556\n",
       "Creditos                        14556\n",
       "Acreditados                     14556\n",
       "dtype: int64"
      ]
     },
     "execution_count": 6,
     "metadata": {},
     "output_type": "execute_result"
    }
   ],
   "source": [
    "cnbv_raw2[cnbv_raw2['IMOR'] == 100].count()"
   ]
  },
  {
   "cell_type": "code",
   "execution_count": 7,
   "metadata": {},
   "outputs": [],
   "source": [
    "imor_r = pd.cut(np.array(cnbv_raw2['IMOR']), bins=5, labels=['1', '2', '3', '4', '5'])"
   ]
  },
  {
   "cell_type": "code",
   "execution_count": 8,
   "metadata": {},
   "outputs": [],
   "source": [
    "imor_pd= pd.DataFrame(imor_r)"
   ]
  },
  {
   "cell_type": "code",
   "execution_count": 9,
   "metadata": {},
   "outputs": [],
   "source": [
    "le = preprocessing.LabelEncoder()"
   ]
  },
  {
   "cell_type": "code",
   "execution_count": 10,
   "metadata": {},
   "outputs": [],
   "source": [
    "#target_encoded= le.fit_transform(imor_r)\n",
    "#target_encoded_pd= pd.DataFrame(target_encoded)"
   ]
  },
  {
   "cell_type": "code",
   "execution_count": 11,
   "metadata": {},
   "outputs": [
    {
     "name": "stderr",
     "output_type": "stream",
     "text": [
      "C:\\Users\\grace\\Anaconda3\\envs\\PythonData\\lib\\site-packages\\ipykernel_launcher.py:1: SettingWithCopyWarning: \n",
      "A value is trying to be set on a copy of a slice from a DataFrame.\n",
      "Try using .loc[row_indexer,col_indexer] = value instead\n",
      "\n",
      "See the caveats in the documentation: http://pandas.pydata.org/pandas-docs/stable/indexing.html#indexing-view-versus-copy\n",
      "  \"\"\"Entry point for launching an IPython kernel.\n"
     ]
    }
   ],
   "source": [
    "cnbv_raw2[\"Labels\"]= imor_pd[0]"
   ]
  },
  {
   "cell_type": "code",
   "execution_count": 12,
   "metadata": {
    "scrolled": true
   },
   "outputs": [
    {
     "data": {
      "text/html": [
       "<div>\n",
       "<style scoped>\n",
       "    .dataframe tbody tr th:only-of-type {\n",
       "        vertical-align: middle;\n",
       "    }\n",
       "\n",
       "    .dataframe tbody tr th {\n",
       "        vertical-align: top;\n",
       "    }\n",
       "\n",
       "    .dataframe thead th {\n",
       "        text-align: right;\n",
       "    }\n",
       "</style>\n",
       "<table border=\"1\" class=\"dataframe\">\n",
       "  <thead>\n",
       "    <tr style=\"text-align: right;\">\n",
       "      <th></th>\n",
       "      <th>Estado_calculado</th>\n",
       "      <th>IMOR</th>\n",
       "    </tr>\n",
       "  </thead>\n",
       "  <tbody>\n",
       "    <tr>\n",
       "      <th>30</th>\n",
       "      <td>VERACRUZ</td>\n",
       "      <td>11.201061</td>\n",
       "    </tr>\n",
       "    <tr>\n",
       "      <th>25</th>\n",
       "      <td>SINALOA</td>\n",
       "      <td>10.720732</td>\n",
       "    </tr>\n",
       "    <tr>\n",
       "      <th>27</th>\n",
       "      <td>TABASCO</td>\n",
       "      <td>10.310560</td>\n",
       "    </tr>\n",
       "    <tr>\n",
       "      <th>29</th>\n",
       "      <td>TLAXCALA</td>\n",
       "      <td>10.215682</td>\n",
       "    </tr>\n",
       "    <tr>\n",
       "      <th>4</th>\n",
       "      <td>CHIAPAS</td>\n",
       "      <td>10.053438</td>\n",
       "    </tr>\n",
       "  </tbody>\n",
       "</table>\n",
       "</div>"
      ],
      "text/plain": [
       "   Estado_calculado       IMOR\n",
       "30         VERACRUZ  11.201061\n",
       "25          SINALOA  10.720732\n",
       "27          TABASCO  10.310560\n",
       "29         TLAXCALA  10.215682\n",
       "4           CHIAPAS  10.053438"
      ]
     },
     "execution_count": 12,
     "metadata": {},
     "output_type": "execute_result"
    }
   ],
   "source": [
    "cnbv_raw2[['Estado_calculado', 'IMOR']].groupby(['Estado_calculado'], as_index=False).mean().sort_values(by='IMOR', ascending=False).head()"
   ]
  },
  {
   "cell_type": "code",
   "execution_count": 13,
   "metadata": {
    "scrolled": true
   },
   "outputs": [
    {
     "data": {
      "text/html": [
       "<div>\n",
       "<style scoped>\n",
       "    .dataframe tbody tr th:only-of-type {\n",
       "        vertical-align: middle;\n",
       "    }\n",
       "\n",
       "    .dataframe tbody tr th {\n",
       "        vertical-align: top;\n",
       "    }\n",
       "\n",
       "    .dataframe thead th {\n",
       "        text-align: right;\n",
       "    }\n",
       "</style>\n",
       "<table border=\"1\" class=\"dataframe\">\n",
       "  <thead>\n",
       "    <tr style=\"text-align: right;\">\n",
       "      <th></th>\n",
       "      <th>Actividad_economica_agragada</th>\n",
       "      <th>IMOR</th>\n",
       "    </tr>\n",
       "  </thead>\n",
       "  <tbody>\n",
       "    <tr>\n",
       "      <th>0</th>\n",
       "      <td>Agricultura, Silvicultura, Ganaderia y Pesca</td>\n",
       "      <td>10.120853</td>\n",
       "    </tr>\n",
       "    <tr>\n",
       "      <th>13</th>\n",
       "      <td>Organismos Internacionales</td>\n",
       "      <td>9.565515</td>\n",
       "    </tr>\n",
       "    <tr>\n",
       "      <th>3</th>\n",
       "      <td>Comercio</td>\n",
       "      <td>9.066857</td>\n",
       "    </tr>\n",
       "    <tr>\n",
       "      <th>5</th>\n",
       "      <td>Construccion</td>\n",
       "      <td>8.150305</td>\n",
       "    </tr>\n",
       "    <tr>\n",
       "      <th>12</th>\n",
       "      <td>Industria Textil y de Calzado</td>\n",
       "      <td>7.770807</td>\n",
       "    </tr>\n",
       "  </tbody>\n",
       "</table>\n",
       "</div>"
      ],
      "text/plain": [
       "                    Actividad_economica_agragada       IMOR\n",
       "0   Agricultura, Silvicultura, Ganaderia y Pesca  10.120853\n",
       "13                    Organismos Internacionales   9.565515\n",
       "3                                       Comercio   9.066857\n",
       "5                                   Construccion   8.150305\n",
       "12                 Industria Textil y de Calzado   7.770807"
      ]
     },
     "execution_count": 13,
     "metadata": {},
     "output_type": "execute_result"
    }
   ],
   "source": [
    "cnbv_raw2[['Actividad_economica_agragada', 'IMOR']].groupby(['Actividad_economica_agragada'], as_index=False).mean().sort_values(by='IMOR', ascending=False).head()"
   ]
  },
  {
   "cell_type": "code",
   "execution_count": 14,
   "metadata": {},
   "outputs": [
    {
     "data": {
      "text/html": [
       "<div>\n",
       "<style scoped>\n",
       "    .dataframe tbody tr th:only-of-type {\n",
       "        vertical-align: middle;\n",
       "    }\n",
       "\n",
       "    .dataframe tbody tr th {\n",
       "        vertical-align: top;\n",
       "    }\n",
       "\n",
       "    .dataframe thead th {\n",
       "        text-align: right;\n",
       "    }\n",
       "</style>\n",
       "<table border=\"1\" class=\"dataframe\">\n",
       "  <thead>\n",
       "    <tr style=\"text-align: right;\">\n",
       "      <th></th>\n",
       "      <th>Destino_del_credito</th>\n",
       "      <th>IMOR</th>\n",
       "    </tr>\n",
       "  </thead>\n",
       "  <tbody>\n",
       "    <tr>\n",
       "      <th>15</th>\n",
       "      <td>Garantia de operaciones de mercado de dinero</td>\n",
       "      <td>58.260783</td>\n",
       "    </tr>\n",
       "    <tr>\n",
       "      <th>17</th>\n",
       "      <td>Garantía de operaciones de mercado de dinero</td>\n",
       "      <td>55.170000</td>\n",
       "    </tr>\n",
       "    <tr>\n",
       "      <th>23</th>\n",
       "      <td>Línea de crédito para liquidez</td>\n",
       "      <td>23.353293</td>\n",
       "    </tr>\n",
       "    <tr>\n",
       "      <th>16</th>\n",
       "      <td>Garantia de operaciones derivadas</td>\n",
       "      <td>22.222222</td>\n",
       "    </tr>\n",
       "    <tr>\n",
       "      <th>21</th>\n",
       "      <td>Linea de crédito para liquidez</td>\n",
       "      <td>20.639877</td>\n",
       "    </tr>\n",
       "  </tbody>\n",
       "</table>\n",
       "</div>"
      ],
      "text/plain": [
       "                             Destino_del_credito       IMOR\n",
       "15  Garantia de operaciones de mercado de dinero  58.260783\n",
       "17  Garantía de operaciones de mercado de dinero  55.170000\n",
       "23                Línea de crédito para liquidez  23.353293\n",
       "16             Garantia de operaciones derivadas  22.222222\n",
       "21                Linea de crédito para liquidez  20.639877"
      ]
     },
     "execution_count": 14,
     "metadata": {},
     "output_type": "execute_result"
    }
   ],
   "source": [
    "cnbv_raw2[['Destino_del_credito', 'IMOR']].groupby(['Destino_del_credito'], as_index=False).mean().sort_values(by='IMOR', ascending=False).head()"
   ]
  },
  {
   "cell_type": "code",
   "execution_count": 15,
   "metadata": {
    "scrolled": false
   },
   "outputs": [
    {
     "data": {
      "text/html": [
       "<div>\n",
       "<style scoped>\n",
       "    .dataframe tbody tr th:only-of-type {\n",
       "        vertical-align: middle;\n",
       "    }\n",
       "\n",
       "    .dataframe tbody tr th {\n",
       "        vertical-align: top;\n",
       "    }\n",
       "\n",
       "    .dataframe thead th {\n",
       "        text-align: right;\n",
       "    }\n",
       "</style>\n",
       "<table border=\"1\" class=\"dataframe\">\n",
       "  <thead>\n",
       "    <tr style=\"text-align: right;\">\n",
       "      <th></th>\n",
       "      <th>Institucion</th>\n",
       "      <th>IMOR</th>\n",
       "    </tr>\n",
       "  </thead>\n",
       "  <tbody>\n",
       "    <tr>\n",
       "      <th>17</th>\n",
       "      <td>Bankaool</td>\n",
       "      <td>24.910916</td>\n",
       "    </tr>\n",
       "    <tr>\n",
       "      <th>0</th>\n",
       "      <td>ABC Capital</td>\n",
       "      <td>20.648142</td>\n",
       "    </tr>\n",
       "    <tr>\n",
       "      <th>25</th>\n",
       "      <td>Finterra</td>\n",
       "      <td>20.367798</td>\n",
       "    </tr>\n",
       "    <tr>\n",
       "      <th>28</th>\n",
       "      <td>Inbursa</td>\n",
       "      <td>18.303425</td>\n",
       "    </tr>\n",
       "    <tr>\n",
       "      <th>10</th>\n",
       "      <td>Banco Ahorro Famsa</td>\n",
       "      <td>16.750651</td>\n",
       "    </tr>\n",
       "  </tbody>\n",
       "</table>\n",
       "</div>"
      ],
      "text/plain": [
       "           Institucion       IMOR\n",
       "17            Bankaool  24.910916\n",
       "0          ABC Capital  20.648142\n",
       "25            Finterra  20.367798\n",
       "28             Inbursa  18.303425\n",
       "10  Banco Ahorro Famsa  16.750651"
      ]
     },
     "execution_count": 15,
     "metadata": {},
     "output_type": "execute_result"
    }
   ],
   "source": [
    "cnbv_raw2[['Institucion', 'IMOR']].groupby(['Institucion'], as_index=False).mean().sort_values(by='IMOR', ascending=False).head()"
   ]
  },
  {
   "cell_type": "code",
   "execution_count": 16,
   "metadata": {
    "scrolled": true
   },
   "outputs": [
    {
     "data": {
      "text/plain": [
       "<seaborn.axisgrid.FacetGrid at 0x26319d4a2e8>"
      ]
     },
     "execution_count": 16,
     "metadata": {},
     "output_type": "execute_result"
    },
    {
     "data": {
      "image/png": "[encoded data removed]",
      "text/plain": [
       "<Figure size 1080x216 with 5 Axes>"
      ]
     },
     "metadata": {
      "needs_background": "light"
     },
     "output_type": "display_data"
    }
   ],
   "source": [
    "g = sns.FacetGrid(cnbv_raw2, col='Labels')\n",
    "g.map(plt.hist, 'Cartera_Total', bins=1)"
   ]
  },
  {
   "cell_type": "code",
   "execution_count": 17,
   "metadata": {},
   "outputs": [],
   "source": [
    "#x = cnbv['Cartera_Total'].str.replace(',', '').str.replace(')', '').str.replace('(', '')\n",
    "#y = cnbv['Cartera_Vigente'].str.replace(',', '').str.replace(')', '').str.replace('(', '')  \n",
    "#z = cnbv['Cartera_Vencida'].str.replace(',', '').str.replace(')', '').str.replace('(', '')  "
   ]
  },
  {
   "cell_type": "code",
   "execution_count": 18,
   "metadata": {},
   "outputs": [],
   "source": [
    "#cnbv['Cartera_Total']= x.astype(float)\n",
    "#cnbv['Cartera_Vigente']= y.astype(float)\n",
    "#cnbv['Cartera_Vencida']= z.astype(float)"
   ]
  },
  {
   "cell_type": "code",
   "execution_count": 19,
   "metadata": {},
   "outputs": [],
   "source": [
    "#cnbv['Cartera_Total'].dropna(inplace=True)\n",
    "#cnbv['Cartera_Vigente'].dropna(inplace=True)\n",
    "#cnbv['Cartera_Vencida'].dropna(inplace=True)\n",
    "#cnbv['IMOR'].dropna(inplace=True)"
   ]
  },
  {
   "cell_type": "code",
   "execution_count": 20,
   "metadata": {
    "scrolled": true
   },
   "outputs": [
    {
     "data": {
      "text/html": [
       "<div>\n",
       "<style scoped>\n",
       "    .dataframe tbody tr th:only-of-type {\n",
       "        vertical-align: middle;\n",
       "    }\n",
       "\n",
       "    .dataframe tbody tr th {\n",
       "        vertical-align: top;\n",
       "    }\n",
       "\n",
       "    .dataframe thead th {\n",
       "        text-align: right;\n",
       "    }\n",
       "</style>\n",
       "<table border=\"1\" class=\"dataframe\">\n",
       "  <thead>\n",
       "    <tr style=\"text-align: right;\">\n",
       "      <th></th>\n",
       "      <th>Estado_calculado</th>\n",
       "      <th>Actividad_economica_agragada</th>\n",
       "      <th>Destino_del_credito</th>\n",
       "      <th>Institucion</th>\n",
       "      <th>Cartera_Vigente</th>\n",
       "      <th>IMOR</th>\n",
       "    </tr>\n",
       "  </thead>\n",
       "  <tbody>\n",
       "    <tr>\n",
       "      <th>6</th>\n",
       "      <td>AGUASCALIENTES</td>\n",
       "      <td>Agricultura, Silvicultura, Ganaderia y Pesca</td>\n",
       "      <td>Adquisicion de Activo Fijo: Inmuebles</td>\n",
       "      <td>Banca Mifel</td>\n",
       "      <td>26.91</td>\n",
       "      <td>0.00</td>\n",
       "    </tr>\n",
       "    <tr>\n",
       "      <th>15</th>\n",
       "      <td>AGUASCALIENTES</td>\n",
       "      <td>Agricultura, Silvicultura, Ganaderia y Pesca</td>\n",
       "      <td>Adquisicion de Activo Fijo: Inmuebles</td>\n",
       "      <td>Banorte</td>\n",
       "      <td>18.70</td>\n",
       "      <td>1.53</td>\n",
       "    </tr>\n",
       "    <tr>\n",
       "      <th>16</th>\n",
       "      <td>AGUASCALIENTES</td>\n",
       "      <td>Agricultura, Silvicultura, Ganaderia y Pesca</td>\n",
       "      <td>Adquisicion de Activo Fijo: Inmuebles</td>\n",
       "      <td>Banregio</td>\n",
       "      <td>54.37</td>\n",
       "      <td>0.00</td>\n",
       "    </tr>\n",
       "    <tr>\n",
       "      <th>22</th>\n",
       "      <td>AGUASCALIENTES</td>\n",
       "      <td>Agricultura, Silvicultura, Ganaderia y Pesca</td>\n",
       "      <td>Adquisicion de Activo Fijo: Inmuebles</td>\n",
       "      <td>HSBC</td>\n",
       "      <td>53.01</td>\n",
       "      <td>0.00</td>\n",
       "    </tr>\n",
       "    <tr>\n",
       "      <th>46</th>\n",
       "      <td>AGUASCALIENTES</td>\n",
       "      <td>Agricultura, Silvicultura, Ganaderia y Pesca</td>\n",
       "      <td>Adquisicion de Activo Fijo: Mobiliario y Equipo</td>\n",
       "      <td>Banco del Bajío</td>\n",
       "      <td>157.47</td>\n",
       "      <td>0.00</td>\n",
       "    </tr>\n",
       "  </tbody>\n",
       "</table>\n",
       "</div>"
      ],
      "text/plain": [
       "   Estado_calculado                  Actividad_economica_agragada  \\\n",
       "6    AGUASCALIENTES  Agricultura, Silvicultura, Ganaderia y Pesca   \n",
       "15   AGUASCALIENTES  Agricultura, Silvicultura, Ganaderia y Pesca   \n",
       "16   AGUASCALIENTES  Agricultura, Silvicultura, Ganaderia y Pesca   \n",
       "22   AGUASCALIENTES  Agricultura, Silvicultura, Ganaderia y Pesca   \n",
       "46   AGUASCALIENTES  Agricultura, Silvicultura, Ganaderia y Pesca   \n",
       "\n",
       "                                Destino_del_credito      Institucion  \\\n",
       "6             Adquisicion de Activo Fijo: Inmuebles      Banca Mifel   \n",
       "15            Adquisicion de Activo Fijo: Inmuebles          Banorte   \n",
       "16            Adquisicion de Activo Fijo: Inmuebles         Banregio   \n",
       "22            Adquisicion de Activo Fijo: Inmuebles             HSBC   \n",
       "46  Adquisicion de Activo Fijo: Mobiliario y Equipo  Banco del Bajío   \n",
       "\n",
       "    Cartera_Vigente  IMOR  \n",
       "6             26.91  0.00  \n",
       "15            18.70  1.53  \n",
       "16            54.37  0.00  \n",
       "22            53.01  0.00  \n",
       "46           157.47  0.00  "
      ]
     },
     "execution_count": 20,
     "metadata": {},
     "output_type": "execute_result"
    }
   ],
   "source": [
    "cnbv= cnbv_raw2.drop(['Labels', 'Cartera_Total', 'Cartera_Vencida', 'Escala', 'Periodo_seguimiento', 'Cartera', 'Creditos', 'Acreditados'], axis=1)\n",
    "cnbv.head()"
   ]
  },
  {
   "cell_type": "code",
   "execution_count": 21,
   "metadata": {
    "scrolled": true
   },
   "outputs": [],
   "source": [
    "state_encoded=le.fit_transform(cnbv['Estado_calculado'])\n",
    "sector_encoded=le.fit_transform(cnbv['Actividad_economica_agragada'])\n",
    "credit_encoded=le.fit_transform(cnbv['Destino_del_credito'])\n",
    "bank_encoded=le.fit_transform(cnbv['Institucion'])\n",
    "imor= cnbv['IMOR'].to_numpy()\n",
    "cartera= cnbv['Cartera_Vigente'].to_numpy()"
   ]
  },
  {
   "cell_type": "code",
   "execution_count": 22,
   "metadata": {
    "scrolled": true
   },
   "outputs": [
    {
     "data": {
      "text/plain": [
       "(423068, 6)"
      ]
     },
     "execution_count": 22,
     "metadata": {},
     "output_type": "execute_result"
    }
   ],
   "source": [
    "x_y= np.column_stack((state_encoded, sector_encoded, credit_encoded, bank_encoded, cartera, imor))\n",
    "x_y.shape"
   ]
  },
  {
   "cell_type": "code",
   "execution_count": 23,
   "metadata": {},
   "outputs": [],
   "source": [
    "x_y_pd= pd.DataFrame(x_y)"
   ]
  },
  {
   "cell_type": "code",
   "execution_count": 24,
   "metadata": {},
   "outputs": [],
   "source": [
    "from sklearn.model_selection import train_test_split\n",
    "\n",
    "# Split dataset into training set and test set\n",
    "train, test = train_test_split(x_y_pd, random_state=42, test_size=0.3) # 70% training and 30% test"
   ]
  },
  {
   "cell_type": "code",
   "execution_count": 25,
   "metadata": {},
   "outputs": [
    {
     "data": {
      "text/plain": [
       "array([[1.30000e+01, 1.50000e+01, 6.00000e+00, 3.90000e+01, 2.54890e+02],\n",
       "       [8.00000e+00, 1.50000e+01, 6.00000e+00, 3.30000e+01, 1.04348e+03],\n",
       "       [8.00000e+00, 9.00000e+00, 6.00000e+00, 3.40000e+01, 1.79800e+01],\n",
       "       ...,\n",
       "       [1.70000e+01, 3.00000e+00, 2.80000e+01, 4.00000e+01, 2.50000e-01],\n",
       "       [2.60000e+01, 8.00000e+00, 1.00000e+00, 2.20000e+01, 1.80000e-01],\n",
       "       [2.20000e+01, 0.00000e+00, 6.00000e+00, 1.40000e+01, 2.68080e+02]])"
      ]
     },
     "execution_count": 25,
     "metadata": {},
     "output_type": "execute_result"
    }
   ],
   "source": [
    "X = np.array(train.drop([5], 1).astype(float))\n",
    "X"
   ]
  },
  {
   "cell_type": "code",
   "execution_count": 26,
   "metadata": {},
   "outputs": [],
   "source": [
    "y = np.array(x_y_pd[5])"
   ]
  },
  {
   "cell_type": "code",
   "execution_count": 27,
   "metadata": {},
   "outputs": [
    {
     "data": {
      "text/plain": [
       "KMeans(algorithm='auto', copy_x=True, init='k-means++', max_iter=600,\n",
       "       n_clusters=3, n_init=10, n_jobs=None, precompute_distances='auto',\n",
       "       random_state=None, tol=0.0001, verbose=0)"
      ]
     },
     "execution_count": 27,
     "metadata": {},
     "output_type": "execute_result"
    }
   ],
   "source": [
    "kmeans = KMeans(n_clusters=3, max_iter=600, algorithm = 'auto') # You want cluster the passenger records into 2: Survived or Not survived\n",
    "kmeans.fit(X)"
   ]
  },
  {
   "cell_type": "code",
   "execution_count": 29,
   "metadata": {},
   "outputs": [
    {
     "name": "stdout",
     "output_type": "stream",
     "text": [
      "0.6770218844020031\n"
     ]
    }
   ],
   "source": [
    "correct = 0\n",
    "for i in range(len(X)):\n",
    "    predict_me = np.array(X[i].astype(float))\n",
    "    predict_me = predict_me.reshape(-1, len(predict_me))\n",
    "    prediction = kmeans.predict(predict_me)\n",
    "    if prediction[0] == y[i]:\n",
    "        correct += 1\n",
    "\n",
    "print(correct/len(X))"
   ]
  },
  {
   "cell_type": "code",
   "execution_count": 30,
   "metadata": {
    "scrolled": true
   },
   "outputs": [
    {
     "data": {
      "text/plain": [
       "(296147, 1)"
      ]
     },
     "execution_count": 30,
     "metadata": {},
     "output_type": "execute_result"
    }
   ],
   "source": [
    "clusters=pd.DataFrame(kmeans.labels_)\n",
    "clusters.shape"
   ]
  },
  {
   "cell_type": "code",
   "execution_count": 33,
   "metadata": {
    "scrolled": true
   },
   "outputs": [
    {
     "data": {
      "text/html": [
       "<div>\n",
       "<style scoped>\n",
       "    .dataframe tbody tr th:only-of-type {\n",
       "        vertical-align: middle;\n",
       "    }\n",
       "\n",
       "    .dataframe tbody tr th {\n",
       "        vertical-align: top;\n",
       "    }\n",
       "\n",
       "    .dataframe thead th {\n",
       "        text-align: right;\n",
       "    }\n",
       "</style>\n",
       "<table border=\"1\" class=\"dataframe\">\n",
       "  <thead>\n",
       "    <tr style=\"text-align: right;\">\n",
       "      <th></th>\n",
       "      <th>Estado_calculado</th>\n",
       "      <th>Actividad_economica_agragada</th>\n",
       "      <th>Destino_del_credito</th>\n",
       "      <th>Institucion</th>\n",
       "      <th>Cartera Vigente</th>\n",
       "      <th>IMOR</th>\n",
       "      <th>Clusters</th>\n",
       "    </tr>\n",
       "  </thead>\n",
       "  <tbody>\n",
       "    <tr>\n",
       "      <th>26100</th>\n",
       "      <td>13.0</td>\n",
       "      <td>15.0</td>\n",
       "      <td>6.0</td>\n",
       "      <td>39.0</td>\n",
       "      <td>254.89</td>\n",
       "      <td>0.00</td>\n",
       "      <td>0.0</td>\n",
       "    </tr>\n",
       "    <tr>\n",
       "      <th>2778</th>\n",
       "      <td>8.0</td>\n",
       "      <td>15.0</td>\n",
       "      <td>6.0</td>\n",
       "      <td>33.0</td>\n",
       "      <td>1043.48</td>\n",
       "      <td>0.00</td>\n",
       "      <td>0.0</td>\n",
       "    </tr>\n",
       "    <tr>\n",
       "      <th>265905</th>\n",
       "      <td>8.0</td>\n",
       "      <td>9.0</td>\n",
       "      <td>6.0</td>\n",
       "      <td>34.0</td>\n",
       "      <td>17.98</td>\n",
       "      <td>0.00</td>\n",
       "      <td>0.0</td>\n",
       "    </tr>\n",
       "    <tr>\n",
       "      <th>149854</th>\n",
       "      <td>4.0</td>\n",
       "      <td>3.0</td>\n",
       "      <td>6.0</td>\n",
       "      <td>8.0</td>\n",
       "      <td>724.35</td>\n",
       "      <td>1.02</td>\n",
       "      <td>0.0</td>\n",
       "    </tr>\n",
       "    <tr>\n",
       "      <th>128351</th>\n",
       "      <td>8.0</td>\n",
       "      <td>7.0</td>\n",
       "      <td>28.0</td>\n",
       "      <td>5.0</td>\n",
       "      <td>12.50</td>\n",
       "      <td>12.16</td>\n",
       "      <td>0.0</td>\n",
       "    </tr>\n",
       "  </tbody>\n",
       "</table>\n",
       "</div>"
      ],
      "text/plain": [
       "        Estado_calculado  Actividad_economica_agragada  Destino_del_credito  \\\n",
       "26100               13.0                          15.0                  6.0   \n",
       "2778                 8.0                          15.0                  6.0   \n",
       "265905               8.0                           9.0                  6.0   \n",
       "149854               4.0                           3.0                  6.0   \n",
       "128351               8.0                           7.0                 28.0   \n",
       "\n",
       "        Institucion  Cartera Vigente   IMOR  Clusters  \n",
       "26100          39.0           254.89   0.00       0.0  \n",
       "2778           33.0          1043.48   0.00       0.0  \n",
       "265905         34.0            17.98   0.00       0.0  \n",
       "149854          8.0           724.35   1.02       0.0  \n",
       "128351          5.0            12.50  12.16       0.0  "
      ]
     },
     "execution_count": 33,
     "metadata": {},
     "output_type": "execute_result"
    }
   ],
   "source": [
    "clusters_pd=pd.DataFrame(train)\n",
    "clusters_pd[7]= clusters[0]\n",
    "clusters_pd.columns=['Estado_calculado', 'Actividad_economica_agragada', 'Destino_del_credito','Institucion','Cartera Vigente', 'IMOR', 'Clusters']\n",
    "clusters_pd.head()"
   ]
  },
  {
   "cell_type": "code",
   "execution_count": 44,
   "metadata": {},
   "outputs": [],
   "source": [
    "cluster_0 = pd.DataFrame(clusters_pd[clusters_pd.Clusters == 0])\n",
    "cluster_1 = clusters_pd[clusters_pd.Clusters == 1]\n",
    "cluster_2 = clusters_pd[clusters_pd.Clusters == 2]"
   ]
  },
  {
   "cell_type": "code",
   "execution_count": 77,
   "metadata": {
    "scrolled": true
   },
   "outputs": [
    {
     "data": {
      "text/html": [
       "<div>\n",
       "<style scoped>\n",
       "    .dataframe tbody tr th:only-of-type {\n",
       "        vertical-align: middle;\n",
       "    }\n",
       "\n",
       "    .dataframe tbody tr th {\n",
       "        vertical-align: top;\n",
       "    }\n",
       "\n",
       "    .dataframe thead th {\n",
       "        text-align: right;\n",
       "    }\n",
       "</style>\n",
       "<table border=\"1\" class=\"dataframe\">\n",
       "  <thead>\n",
       "    <tr style=\"text-align: right;\">\n",
       "      <th></th>\n",
       "      <th>IMOR</th>\n",
       "      <th>Cartera Vigente</th>\n",
       "    </tr>\n",
       "  </thead>\n",
       "  <tbody>\n",
       "    <tr>\n",
       "      <th>count</th>\n",
       "      <td>205156.000000</td>\n",
       "      <td>205156.000000</td>\n",
       "    </tr>\n",
       "    <tr>\n",
       "      <th>mean</th>\n",
       "      <td>6.949912</td>\n",
       "      <td>177.528597</td>\n",
       "    </tr>\n",
       "    <tr>\n",
       "      <th>std</th>\n",
       "      <td>21.434884</td>\n",
       "      <td>997.205676</td>\n",
       "    </tr>\n",
       "    <tr>\n",
       "      <th>min</th>\n",
       "      <td>0.000000</td>\n",
       "      <td>-0.050000</td>\n",
       "    </tr>\n",
       "    <tr>\n",
       "      <th>25%</th>\n",
       "      <td>0.000000</td>\n",
       "      <td>1.040000</td>\n",
       "    </tr>\n",
       "    <tr>\n",
       "      <th>50%</th>\n",
       "      <td>0.000000</td>\n",
       "      <td>8.800000</td>\n",
       "    </tr>\n",
       "    <tr>\n",
       "      <th>75%</th>\n",
       "      <td>0.720000</td>\n",
       "      <td>57.962500</td>\n",
       "    </tr>\n",
       "    <tr>\n",
       "      <th>max</th>\n",
       "      <td>100.000000</td>\n",
       "      <td>66198.330000</td>\n",
       "    </tr>\n",
       "  </tbody>\n",
       "</table>\n",
       "</div>"
      ],
      "text/plain": [
       "                IMOR  Cartera Vigente\n",
       "count  205156.000000    205156.000000\n",
       "mean        6.949912       177.528597\n",
       "std        21.434884       997.205676\n",
       "min         0.000000        -0.050000\n",
       "25%         0.000000         1.040000\n",
       "50%         0.000000         8.800000\n",
       "75%         0.720000        57.962500\n",
       "max       100.000000     66198.330000"
      ]
     },
     "execution_count": 77,
     "metadata": {},
     "output_type": "execute_result"
    }
   ],
   "source": [
    "cluster_0[['IMOR','Cartera Vigente']].describe()"
   ]
  },
  {
   "cell_type": "code",
   "execution_count": 75,
   "metadata": {
    "scrolled": true
   },
   "outputs": [
    {
     "data": {
      "text/html": [
       "<div>\n",
       "<style scoped>\n",
       "    .dataframe tbody tr th:only-of-type {\n",
       "        vertical-align: middle;\n",
       "    }\n",
       "\n",
       "    .dataframe tbody tr th {\n",
       "        vertical-align: top;\n",
       "    }\n",
       "\n",
       "    .dataframe thead th {\n",
       "        text-align: right;\n",
       "    }\n",
       "</style>\n",
       "<table border=\"1\" class=\"dataframe\">\n",
       "  <thead>\n",
       "    <tr style=\"text-align: right;\">\n",
       "      <th></th>\n",
       "      <th>IMOR</th>\n",
       "      <th>Cartera Vigente</th>\n",
       "    </tr>\n",
       "  </thead>\n",
       "  <tbody>\n",
       "    <tr>\n",
       "      <th>count</th>\n",
       "      <td>1990.000000</td>\n",
       "      <td>1990.000000</td>\n",
       "    </tr>\n",
       "    <tr>\n",
       "      <th>mean</th>\n",
       "      <td>7.258030</td>\n",
       "      <td>207.061894</td>\n",
       "    </tr>\n",
       "    <tr>\n",
       "      <th>std</th>\n",
       "      <td>21.971814</td>\n",
       "      <td>1542.542792</td>\n",
       "    </tr>\n",
       "    <tr>\n",
       "      <th>min</th>\n",
       "      <td>0.000000</td>\n",
       "      <td>0.000000</td>\n",
       "    </tr>\n",
       "    <tr>\n",
       "      <th>25%</th>\n",
       "      <td>0.000000</td>\n",
       "      <td>1.060000</td>\n",
       "    </tr>\n",
       "    <tr>\n",
       "      <th>50%</th>\n",
       "      <td>0.000000</td>\n",
       "      <td>7.700000</td>\n",
       "    </tr>\n",
       "    <tr>\n",
       "      <th>75%</th>\n",
       "      <td>0.685000</td>\n",
       "      <td>49.755000</td>\n",
       "    </tr>\n",
       "    <tr>\n",
       "      <th>max</th>\n",
       "      <td>100.000000</td>\n",
       "      <td>51001.780000</td>\n",
       "    </tr>\n",
       "  </tbody>\n",
       "</table>\n",
       "</div>"
      ],
      "text/plain": [
       "              IMOR  Cartera Vigente\n",
       "count  1990.000000      1990.000000\n",
       "mean      7.258030       207.061894\n",
       "std      21.971814      1542.542792\n",
       "min       0.000000         0.000000\n",
       "25%       0.000000         1.060000\n",
       "50%       0.000000         7.700000\n",
       "75%       0.685000        49.755000\n",
       "max     100.000000     51001.780000"
      ]
     },
     "execution_count": 75,
     "metadata": {},
     "output_type": "execute_result"
    }
   ],
   "source": [
    "cluster_1[['IMOR','Cartera Vigente']].describe()"
   ]
  },
  {
   "cell_type": "code",
   "execution_count": 79,
   "metadata": {},
   "outputs": [
    {
     "data": {
      "text/html": [
       "<div>\n",
       "<style scoped>\n",
       "    .dataframe tbody tr th:only-of-type {\n",
       "        vertical-align: middle;\n",
       "    }\n",
       "\n",
       "    .dataframe tbody tr th {\n",
       "        vertical-align: top;\n",
       "    }\n",
       "\n",
       "    .dataframe thead th {\n",
       "        text-align: right;\n",
       "    }\n",
       "</style>\n",
       "<table border=\"1\" class=\"dataframe\">\n",
       "  <thead>\n",
       "    <tr style=\"text-align: right;\">\n",
       "      <th></th>\n",
       "      <th>IMOR</th>\n",
       "      <th>Cartera Vigente</th>\n",
       "    </tr>\n",
       "  </thead>\n",
       "  <tbody>\n",
       "    <tr>\n",
       "      <th>count</th>\n",
       "      <td>204.000000</td>\n",
       "      <td>204.000000</td>\n",
       "    </tr>\n",
       "    <tr>\n",
       "      <th>mean</th>\n",
       "      <td>5.742745</td>\n",
       "      <td>163.519461</td>\n",
       "    </tr>\n",
       "    <tr>\n",
       "      <th>std</th>\n",
       "      <td>18.469386</td>\n",
       "      <td>659.390426</td>\n",
       "    </tr>\n",
       "    <tr>\n",
       "      <th>min</th>\n",
       "      <td>0.000000</td>\n",
       "      <td>0.000000</td>\n",
       "    </tr>\n",
       "    <tr>\n",
       "      <th>25%</th>\n",
       "      <td>0.000000</td>\n",
       "      <td>1.562500</td>\n",
       "    </tr>\n",
       "    <tr>\n",
       "      <th>50%</th>\n",
       "      <td>0.000000</td>\n",
       "      <td>8.885000</td>\n",
       "    </tr>\n",
       "    <tr>\n",
       "      <th>75%</th>\n",
       "      <td>0.420000</td>\n",
       "      <td>53.440000</td>\n",
       "    </tr>\n",
       "    <tr>\n",
       "      <th>max</th>\n",
       "      <td>100.000000</td>\n",
       "      <td>7215.510000</td>\n",
       "    </tr>\n",
       "  </tbody>\n",
       "</table>\n",
       "</div>"
      ],
      "text/plain": [
       "             IMOR  Cartera Vigente\n",
       "count  204.000000       204.000000\n",
       "mean     5.742745       163.519461\n",
       "std     18.469386       659.390426\n",
       "min      0.000000         0.000000\n",
       "25%      0.000000         1.562500\n",
       "50%      0.000000         8.885000\n",
       "75%      0.420000        53.440000\n",
       "max    100.000000      7215.510000"
      ]
     },
     "execution_count": 79,
     "metadata": {},
     "output_type": "execute_result"
    }
   ],
   "source": [
    "cluster_2[['IMOR','Cartera Vigente']].describe()"
   ]
  },
  {
   "cell_type": "code",
   "execution_count": 92,
   "metadata": {
    "scrolled": true
   },
   "outputs": [
    {
     "data": {
      "text/html": [
       "<div>\n",
       "<style scoped>\n",
       "    .dataframe tbody tr th:only-of-type {\n",
       "        vertical-align: middle;\n",
       "    }\n",
       "\n",
       "    .dataframe tbody tr th {\n",
       "        vertical-align: top;\n",
       "    }\n",
       "\n",
       "    .dataframe thead th {\n",
       "        text-align: right;\n",
       "    }\n",
       "</style>\n",
       "<table border=\"1\" class=\"dataframe\">\n",
       "  <thead>\n",
       "    <tr style=\"text-align: right;\">\n",
       "      <th></th>\n",
       "      <th>Destino_del_credito</th>\n",
       "      <th>Estado_calculado</th>\n",
       "      <th>Actividad_economica_agragada</th>\n",
       "      <th>Institucion</th>\n",
       "      <th>Cartera Vigente</th>\n",
       "      <th>IMOR</th>\n",
       "      <th>Clusters</th>\n",
       "    </tr>\n",
       "  </thead>\n",
       "  <tbody>\n",
       "    <tr>\n",
       "      <th>6</th>\n",
       "      <td>6.0</td>\n",
       "      <td>106566</td>\n",
       "      <td>106566</td>\n",
       "      <td>106566</td>\n",
       "      <td>106566</td>\n",
       "      <td>106566</td>\n",
       "      <td>106566</td>\n",
       "    </tr>\n",
       "    <tr>\n",
       "      <th>28</th>\n",
       "      <td>28.0</td>\n",
       "      <td>23564</td>\n",
       "      <td>23564</td>\n",
       "      <td>23564</td>\n",
       "      <td>23564</td>\n",
       "      <td>23564</td>\n",
       "      <td>23564</td>\n",
       "    </tr>\n",
       "    <tr>\n",
       "      <th>25</th>\n",
       "      <td>25.0</td>\n",
       "      <td>21685</td>\n",
       "      <td>21685</td>\n",
       "      <td>21685</td>\n",
       "      <td>21685</td>\n",
       "      <td>21685</td>\n",
       "      <td>21685</td>\n",
       "    </tr>\n",
       "    <tr>\n",
       "      <th>0</th>\n",
       "      <td>0.0</td>\n",
       "      <td>15110</td>\n",
       "      <td>15110</td>\n",
       "      <td>15110</td>\n",
       "      <td>15110</td>\n",
       "      <td>15110</td>\n",
       "      <td>15110</td>\n",
       "    </tr>\n",
       "    <tr>\n",
       "      <th>1</th>\n",
       "      <td>1.0</td>\n",
       "      <td>12893</td>\n",
       "      <td>12893</td>\n",
       "      <td>12893</td>\n",
       "      <td>12893</td>\n",
       "      <td>12893</td>\n",
       "      <td>12893</td>\n",
       "    </tr>\n",
       "  </tbody>\n",
       "</table>\n",
       "</div>"
      ],
      "text/plain": [
       "    Destino_del_credito  Estado_calculado  Actividad_economica_agragada  \\\n",
       "6                   6.0            106566                        106566   \n",
       "28                 28.0             23564                         23564   \n",
       "25                 25.0             21685                         21685   \n",
       "0                   0.0             15110                         15110   \n",
       "1                   1.0             12893                         12893   \n",
       "\n",
       "    Institucion  Cartera Vigente    IMOR  Clusters  \n",
       "6        106566           106566  106566    106566  \n",
       "28        23564            23564   23564     23564  \n",
       "25        21685            21685   21685     21685  \n",
       "0         15110            15110   15110     15110  \n",
       "1         12893            12893   12893     12893  "
      ]
     },
     "execution_count": 92,
     "metadata": {},
     "output_type": "execute_result"
    }
   ],
   "source": [
    "c0= cluster_0.groupby('Destino_del_credito').count()\n",
    "c0 =c0.reset_index(level=0,col_level=0)\n",
    "c0.sort_values(by='Institucion', ascending=False).head()"
   ]
  },
  {
   "cell_type": "code",
   "execution_count": 93,
   "metadata": {
    "scrolled": true
   },
   "outputs": [
    {
     "data": {
      "text/html": [
       "<div>\n",
       "<style scoped>\n",
       "    .dataframe tbody tr th:only-of-type {\n",
       "        vertical-align: middle;\n",
       "    }\n",
       "\n",
       "    .dataframe tbody tr th {\n",
       "        vertical-align: top;\n",
       "    }\n",
       "\n",
       "    .dataframe thead th {\n",
       "        text-align: right;\n",
       "    }\n",
       "</style>\n",
       "<table border=\"1\" class=\"dataframe\">\n",
       "  <thead>\n",
       "    <tr style=\"text-align: right;\">\n",
       "      <th></th>\n",
       "      <th>Destino_del_credito</th>\n",
       "      <th>Estado_calculado</th>\n",
       "      <th>Actividad_economica_agragada</th>\n",
       "      <th>Institucion</th>\n",
       "      <th>Cartera Vigente</th>\n",
       "      <th>IMOR</th>\n",
       "      <th>Clusters</th>\n",
       "    </tr>\n",
       "  </thead>\n",
       "  <tbody>\n",
       "    <tr>\n",
       "      <th>5</th>\n",
       "      <td>6.0</td>\n",
       "      <td>1058</td>\n",
       "      <td>1058</td>\n",
       "      <td>1058</td>\n",
       "      <td>1058</td>\n",
       "      <td>1058</td>\n",
       "      <td>1058</td>\n",
       "    </tr>\n",
       "    <tr>\n",
       "      <th>21</th>\n",
       "      <td>28.0</td>\n",
       "      <td>212</td>\n",
       "      <td>212</td>\n",
       "      <td>212</td>\n",
       "      <td>212</td>\n",
       "      <td>212</td>\n",
       "      <td>212</td>\n",
       "    </tr>\n",
       "    <tr>\n",
       "      <th>19</th>\n",
       "      <td>25.0</td>\n",
       "      <td>193</td>\n",
       "      <td>193</td>\n",
       "      <td>193</td>\n",
       "      <td>193</td>\n",
       "      <td>193</td>\n",
       "      <td>193</td>\n",
       "    </tr>\n",
       "    <tr>\n",
       "      <th>0</th>\n",
       "      <td>0.0</td>\n",
       "      <td>137</td>\n",
       "      <td>137</td>\n",
       "      <td>137</td>\n",
       "      <td>137</td>\n",
       "      <td>137</td>\n",
       "      <td>137</td>\n",
       "    </tr>\n",
       "    <tr>\n",
       "      <th>1</th>\n",
       "      <td>1.0</td>\n",
       "      <td>131</td>\n",
       "      <td>131</td>\n",
       "      <td>131</td>\n",
       "      <td>131</td>\n",
       "      <td>131</td>\n",
       "      <td>131</td>\n",
       "    </tr>\n",
       "  </tbody>\n",
       "</table>\n",
       "</div>"
      ],
      "text/plain": [
       "    Destino_del_credito  Estado_calculado  Actividad_economica_agragada  \\\n",
       "5                   6.0              1058                          1058   \n",
       "21                 28.0               212                           212   \n",
       "19                 25.0               193                           193   \n",
       "0                   0.0               137                           137   \n",
       "1                   1.0               131                           131   \n",
       "\n",
       "    Institucion  Cartera Vigente  IMOR  Clusters  \n",
       "5          1058             1058  1058      1058  \n",
       "21          212              212   212       212  \n",
       "19          193              193   193       193  \n",
       "0           137              137   137       137  \n",
       "1           131              131   131       131  "
      ]
     },
     "execution_count": 93,
     "metadata": {},
     "output_type": "execute_result"
    }
   ],
   "source": [
    "c1= cluster_1.groupby('Destino_del_credito').count()\n",
    "c1 =c1.reset_index(level=0,col_level=0)\n",
    "c1.sort_values(by='Institucion', ascending=False).head()"
   ]
  },
  {
   "cell_type": "code",
   "execution_count": 94,
   "metadata": {},
   "outputs": [
    {
     "data": {
      "text/html": [
       "<div>\n",
       "<style scoped>\n",
       "    .dataframe tbody tr th:only-of-type {\n",
       "        vertical-align: middle;\n",
       "    }\n",
       "\n",
       "    .dataframe tbody tr th {\n",
       "        vertical-align: top;\n",
       "    }\n",
       "\n",
       "    .dataframe thead th {\n",
       "        text-align: right;\n",
       "    }\n",
       "</style>\n",
       "<table border=\"1\" class=\"dataframe\">\n",
       "  <thead>\n",
       "    <tr style=\"text-align: right;\">\n",
       "      <th></th>\n",
       "      <th>Destino_del_credito</th>\n",
       "      <th>Estado_calculado</th>\n",
       "      <th>Actividad_economica_agragada</th>\n",
       "      <th>Institucion</th>\n",
       "      <th>Cartera Vigente</th>\n",
       "      <th>IMOR</th>\n",
       "      <th>Clusters</th>\n",
       "    </tr>\n",
       "  </thead>\n",
       "  <tbody>\n",
       "    <tr>\n",
       "      <th>5</th>\n",
       "      <td>6.0</td>\n",
       "      <td>118</td>\n",
       "      <td>118</td>\n",
       "      <td>118</td>\n",
       "      <td>118</td>\n",
       "      <td>118</td>\n",
       "      <td>118</td>\n",
       "    </tr>\n",
       "    <tr>\n",
       "      <th>11</th>\n",
       "      <td>25.0</td>\n",
       "      <td>19</td>\n",
       "      <td>19</td>\n",
       "      <td>19</td>\n",
       "      <td>19</td>\n",
       "      <td>19</td>\n",
       "      <td>19</td>\n",
       "    </tr>\n",
       "    <tr>\n",
       "      <th>13</th>\n",
       "      <td>28.0</td>\n",
       "      <td>19</td>\n",
       "      <td>19</td>\n",
       "      <td>19</td>\n",
       "      <td>19</td>\n",
       "      <td>19</td>\n",
       "      <td>19</td>\n",
       "    </tr>\n",
       "    <tr>\n",
       "      <th>1</th>\n",
       "      <td>1.0</td>\n",
       "      <td>15</td>\n",
       "      <td>15</td>\n",
       "      <td>15</td>\n",
       "      <td>15</td>\n",
       "      <td>15</td>\n",
       "      <td>15</td>\n",
       "    </tr>\n",
       "    <tr>\n",
       "      <th>0</th>\n",
       "      <td>0.0</td>\n",
       "      <td>11</td>\n",
       "      <td>11</td>\n",
       "      <td>11</td>\n",
       "      <td>11</td>\n",
       "      <td>11</td>\n",
       "      <td>11</td>\n",
       "    </tr>\n",
       "  </tbody>\n",
       "</table>\n",
       "</div>"
      ],
      "text/plain": [
       "    Destino_del_credito  Estado_calculado  Actividad_economica_agragada  \\\n",
       "5                   6.0               118                           118   \n",
       "11                 25.0                19                            19   \n",
       "13                 28.0                19                            19   \n",
       "1                   1.0                15                            15   \n",
       "0                   0.0                11                            11   \n",
       "\n",
       "    Institucion  Cartera Vigente  IMOR  Clusters  \n",
       "5           118              118   118       118  \n",
       "11           19               19    19        19  \n",
       "13           19               19    19        19  \n",
       "1            15               15    15        15  \n",
       "0            11               11    11        11  "
      ]
     },
     "execution_count": 94,
     "metadata": {},
     "output_type": "execute_result"
    }
   ],
   "source": [
    "c2= cluster_2.groupby('Destino_del_credito').count()\n",
    "c2 =c2.reset_index(level=0,col_level=0)\n",
    "c2.sort_values(by='Institucion', ascending=False).head()"
   ]
  },
  {
   "cell_type": "code",
   "execution_count": null,
   "metadata": {},
   "outputs": [],
   "source": []
  }
 ],
 "metadata": {
  "kernelspec": {
   "display_name": "Python 3",
   "language": "python",
   "name": "python3"
  },
  "language_info": {
   "codemirror_mode": {
    "name": "ipython",
    "version": 3
   },
   "file_extension": ".py",
   "mimetype": "text/x-python",
   "name": "python",
   "nbconvert_exporter": "python",
   "pygments_lexer": "ipython3",
   "version": "3.6.8"
  }
 },
 "nbformat": 4,
 "nbformat_minor": 2
}
